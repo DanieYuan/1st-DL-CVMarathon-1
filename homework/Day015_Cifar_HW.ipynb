{
 "cells": [
  {
   "cell_type": "markdown",
   "metadata": {},
   "source": [
    "## 『本次練習內容』\n",
    "#### 運用這幾天所學觀念搭建一個CNN分類器"
   ]
  },
  {
   "cell_type": "markdown",
   "metadata": {},
   "source": [
    "## 『本次練習目的』\n",
    "  #### 熟悉CNN分類器搭建步驟與原理\n",
    "  #### 學員們可以嘗試不同搭法，如使用不同的Maxpooling層，用GlobalAveragePooling取代Flatten等等"
   ]
  },
  {
   "cell_type": "code",
   "execution_count": 1,
   "metadata": {},
   "outputs": [
    {
     "name": "stderr",
     "output_type": "stream",
     "text": [
      "Using TensorFlow backend.\n"
     ]
    }
   ],
   "source": [
    "from keras.models import Sequential\n",
    "from keras.layers import Convolution2D\n",
    "from keras.layers import MaxPooling2D\n",
    "from keras.layers import Flatten\n",
    "from keras.layers import Dense\n",
    "from keras.layers import Dropout\n",
    "from keras.layers import BatchNormalization\n",
    "from keras.datasets import cifar10\n",
    "import numpy as np\n",
    "import tensorflow as tf\n",
    "from sklearn.preprocessing import OneHotEncoder\n"
   ]
  },
  {
   "cell_type": "code",
   "execution_count": 2,
   "metadata": {},
   "outputs": [
    {
     "name": "stdout",
     "output_type": "stream",
     "text": [
      "(50000, 32, 32, 3)\n"
     ]
    }
   ],
   "source": [
    "(x_train, y_train), (x_test, y_test) = cifar10.load_data()\n",
    "\n",
    "print(x_train.shape) #(50000, 32, 32, 3)\n",
    "\n",
    "## Normalize Data\n",
    "def normalize(X_train,X_test):\n",
    "        mean = np.mean(X_train,axis=(0,1,2,3))\n",
    "        std = np.std(X_train, axis=(0, 1, 2, 3))\n",
    "        X_train = (X_train-mean)/(std+1e-7)\n",
    "        X_test = (X_test-mean)/(std+1e-7) \n",
    "        return X_train, X_test,mean,std\n",
    "    \n",
    "    \n",
    "## Normalize Training and Testset    \n",
    "x_train, x_test,mean_train,std_train = normalize(x_train, x_test) "
   ]
  },
  {
   "cell_type": "code",
   "execution_count": 3,
   "metadata": {},
   "outputs": [
    {
     "name": "stderr",
     "output_type": "stream",
     "text": [
      "C:\\Users\\Bill\\Anaconda3\\lib\\site-packages\\sklearn\\preprocessing\\_encoders.py:415: FutureWarning: The handling of integer data will change in version 0.22. Currently, the categories are determined based on the range [0, max(values)], while in the future they will be determined based on the unique values.\n",
      "If you want the future behaviour and silence this warning, you can specify \"categories='auto'\".\n",
      "In case you used a LabelEncoder before this OneHotEncoder to convert the categories to integers, then you can now use the OneHotEncoder directly.\n",
      "  warnings.warn(msg, FutureWarning)\n"
     ]
    }
   ],
   "source": [
    "## OneHot Label 由(None, 1)-(None, 10)\n",
    "## ex. label=2,變成[0,0,1,0,0,0,0,0,0,0]\n",
    "one_hot=OneHotEncoder()\n",
    "y_train=one_hot.fit_transform(y_train).toarray()\n",
    "y_test=one_hot.transform(y_test).toarray()"
   ]
  },
  {
   "cell_type": "code",
   "execution_count": 4,
   "metadata": {},
   "outputs": [
    {
     "name": "stdout",
     "output_type": "stream",
     "text": [
      "WARNING:tensorflow:From C:\\Users\\Bill\\Anaconda3\\lib\\site-packages\\keras\\backend\\tensorflow_backend.py:74: The name tf.get_default_graph is deprecated. Please use tf.compat.v1.get_default_graph instead.\n",
      "\n",
      "WARNING:tensorflow:From C:\\Users\\Bill\\Anaconda3\\lib\\site-packages\\keras\\backend\\tensorflow_backend.py:517: The name tf.placeholder is deprecated. Please use tf.compat.v1.placeholder instead.\n",
      "\n",
      "WARNING:tensorflow:From C:\\Users\\Bill\\Anaconda3\\lib\\site-packages\\keras\\backend\\tensorflow_backend.py:4138: The name tf.random_uniform is deprecated. Please use tf.random.uniform instead.\n",
      "\n",
      "WARNING:tensorflow:From C:\\Users\\Bill\\Anaconda3\\lib\\site-packages\\keras\\backend\\tensorflow_backend.py:174: The name tf.get_default_session is deprecated. Please use tf.compat.v1.get_default_session instead.\n",
      "\n",
      "WARNING:tensorflow:From C:\\Users\\Bill\\Anaconda3\\lib\\site-packages\\keras\\backend\\tensorflow_backend.py:181: The name tf.ConfigProto is deprecated. Please use tf.compat.v1.ConfigProto instead.\n",
      "\n",
      "WARNING:tensorflow:From C:\\Users\\Bill\\Anaconda3\\lib\\site-packages\\keras\\backend\\tensorflow_backend.py:1834: The name tf.nn.fused_batch_norm is deprecated. Please use tf.compat.v1.nn.fused_batch_norm instead.\n",
      "\n",
      "WARNING:tensorflow:From C:\\Users\\Bill\\Anaconda3\\lib\\site-packages\\keras\\backend\\tensorflow_backend.py:3976: The name tf.nn.max_pool is deprecated. Please use tf.nn.max_pool2d instead.\n",
      "\n",
      "WARNING:tensorflow:From C:\\Users\\Bill\\Anaconda3\\lib\\site-packages\\keras\\optimizers.py:790: The name tf.train.Optimizer is deprecated. Please use tf.compat.v1.train.Optimizer instead.\n",
      "\n",
      "WARNING:tensorflow:From C:\\Users\\Bill\\Anaconda3\\lib\\site-packages\\tensorflow\\python\\ops\\math_grad.py:1250: add_dispatch_support.<locals>.wrapper (from tensorflow.python.ops.array_ops) is deprecated and will be removed in a future version.\n",
      "Instructions for updating:\n",
      "Use tf.where in 2.0, which has the same broadcast rule as np.where\n",
      "Epoch 1/100\n",
      "50000/50000 [==============================] - 8s 155us/step - loss: 1.3619 - acc: 0.5319\n",
      "Epoch 2/100\n",
      "50000/50000 [==============================] - 6s 119us/step - loss: 0.9455 - acc: 0.6677\n",
      "Epoch 3/100\n",
      "50000/50000 [==============================] - 6s 126us/step - loss: 0.7577 - acc: 0.7340\n",
      "Epoch 4/100\n",
      "50000/50000 [==============================] - 6s 125us/step - loss: 0.6135 - acc: 0.7844\n",
      "Epoch 5/100\n",
      "50000/50000 [==============================] - 6s 126us/step - loss: 0.4797 - acc: 0.8314\n",
      "Epoch 6/100\n",
      "50000/50000 [==============================] - 6s 122us/step - loss: 0.3762 - acc: 0.8687\n",
      "Epoch 7/100\n",
      "50000/50000 [==============================] - 6s 122us/step - loss: 0.2882 - acc: 0.8996\n",
      "Epoch 8/100\n",
      "50000/50000 [==============================] - 6s 120us/step - loss: 0.2303 - acc: 0.9199\n",
      "Epoch 9/100\n",
      "50000/50000 [==============================] - 6s 119us/step - loss: 0.1889 - acc: 0.9337\n",
      "Epoch 10/100\n",
      "50000/50000 [==============================] - 6s 120us/step - loss: 0.1657 - acc: 0.9428\n",
      "Epoch 11/100\n",
      "50000/50000 [==============================] - 6s 120us/step - loss: 0.1362 - acc: 0.9533 1s -\n",
      "Epoch 12/100\n",
      "50000/50000 [==============================] - 6s 121us/step - loss: 0.1216 - acc: 0.9587\n",
      "Epoch 13/100\n",
      "50000/50000 [==============================] - 7s 130us/step - loss: 0.1349 - acc: 0.9549\n",
      "Epoch 14/100\n",
      "50000/50000 [==============================] - 7s 131us/step - loss: 0.1013 - acc: 0.9658\n",
      "Epoch 15/100\n",
      "50000/50000 [==============================] - 6s 123us/step - loss: 0.0913 - acc: 0.9695\n",
      "Epoch 16/100\n",
      "50000/50000 [==============================] - 6s 121us/step - loss: 0.0869 - acc: 0.9710\n",
      "Epoch 17/100\n",
      "50000/50000 [==============================] - 6s 120us/step - loss: 0.0851 - acc: 0.9724\n",
      "Epoch 18/100\n",
      "50000/50000 [==============================] - 6s 124us/step - loss: 0.0805 - acc: 0.9731\n",
      "Epoch 19/100\n",
      "50000/50000 [==============================] - 6s 121us/step - loss: 0.0738 - acc: 0.9752\n",
      "Epoch 20/100\n",
      "50000/50000 [==============================] - 6s 121us/step - loss: 0.0771 - acc: 0.9743\n",
      "Epoch 21/100\n",
      "50000/50000 [==============================] - 6s 120us/step - loss: 0.0724 - acc: 0.9759 0s - loss: 0.0712 - acc: \n",
      "Epoch 22/100\n",
      "50000/50000 [==============================] - 6s 119us/step - loss: 0.0668 - acc: 0.9787\n",
      "Epoch 23/100\n",
      "50000/50000 [==============================] - 6s 122us/step - loss: 0.0588 - acc: 0.9804\n",
      "Epoch 24/100\n",
      "50000/50000 [==============================] - 6s 121us/step - loss: 0.0592 - acc: 0.9797\n",
      "Epoch 25/100\n",
      "50000/50000 [==============================] - 6s 121us/step - loss: 0.0548 - acc: 0.9815\n",
      "Epoch 26/100\n",
      "50000/50000 [==============================] - 6s 121us/step - loss: 0.0499 - acc: 0.9842\n",
      "Epoch 27/100\n",
      "50000/50000 [==============================] - 6s 120us/step - loss: 0.0635 - acc: 0.9783\n",
      "Epoch 28/100\n",
      "50000/50000 [==============================] - 6s 123us/step - loss: 0.0547 - acc: 0.9828\n",
      "Epoch 29/100\n",
      "50000/50000 [==============================] - 6s 120us/step - loss: 0.0434 - acc: 0.9856\n",
      "Epoch 30/100\n",
      "50000/50000 [==============================] - 6s 122us/step - loss: 0.0633 - acc: 0.9796\n",
      "Epoch 31/100\n",
      "50000/50000 [==============================] - 6s 126us/step - loss: 0.0466 - acc: 0.9847\n",
      "Epoch 32/100\n",
      "50000/50000 [==============================] - 6s 128us/step - loss: 0.0402 - acc: 0.9872\n",
      "Epoch 33/100\n",
      "50000/50000 [==============================] - 6s 128us/step - loss: 0.0521 - acc: 0.9834\n",
      "Epoch 34/100\n",
      "50000/50000 [==============================] - 6s 119us/step - loss: 0.0418 - acc: 0.9864\n",
      "Epoch 35/100\n",
      "50000/50000 [==============================] - 6s 119us/step - loss: 0.0464 - acc: 0.9853\n",
      "Epoch 36/100\n",
      "50000/50000 [==============================] - 6s 119us/step - loss: 0.0388 - acc: 0.9865\n",
      "Epoch 37/100\n",
      "50000/50000 [==============================] - 6s 120us/step - loss: 0.0390 - acc: 0.9873\n",
      "Epoch 38/100\n",
      "50000/50000 [==============================] - 6s 119us/step - loss: 0.0320 - acc: 0.9891\n",
      "Epoch 39/100\n",
      "50000/50000 [==============================] - 6s 119us/step - loss: 0.0515 - acc: 0.9834\n",
      "Epoch 40/100\n",
      "50000/50000 [==============================] - 6s 119us/step - loss: 0.0454 - acc: 0.9859\n",
      "Epoch 41/100\n",
      "50000/50000 [==============================] - 6s 119us/step - loss: 0.0350 - acc: 0.9886\n",
      "Epoch 42/100\n",
      "50000/50000 [==============================] - 6s 118us/step - loss: 0.0355 - acc: 0.9888\n",
      "Epoch 43/100\n",
      "50000/50000 [==============================] - 6s 121us/step - loss: 0.0359 - acc: 0.9885\n",
      "Epoch 44/100\n",
      "50000/50000 [==============================] - 6s 120us/step - loss: 0.0378 - acc: 0.9879\n",
      "Epoch 45/100\n",
      "50000/50000 [==============================] - 6s 119us/step - loss: 0.0305 - acc: 0.9907\n",
      "Epoch 46/100\n",
      "50000/50000 [==============================] - 6s 119us/step - loss: 0.0318 - acc: 0.9902\n",
      "Epoch 47/100\n",
      "50000/50000 [==============================] - 6s 119us/step - loss: 0.0348 - acc: 0.9888 0s - loss: 0.0350 - acc: 0.98\n",
      "Epoch 48/100\n",
      "50000/50000 [==============================] - 6s 119us/step - loss: 0.0399 - acc: 0.9875\n",
      "Epoch 49/100\n",
      "50000/50000 [==============================] - 6s 119us/step - loss: 0.0268 - acc: 0.9909\n",
      "Epoch 50/100\n",
      "50000/50000 [==============================] - 6s 119us/step - loss: 0.0226 - acc: 0.9930\n",
      "Epoch 51/100\n",
      "50000/50000 [==============================] - 6s 118us/step - loss: 0.0344 - acc: 0.9895 0s - loss: 0.0325 \n",
      "Epoch 52/100\n",
      "50000/50000 [==============================] - 6s 119us/step - loss: 0.0312 - acc: 0.9898\n",
      "Epoch 53/100\n",
      "50000/50000 [==============================] - 6s 119us/step - loss: 0.0195 - acc: 0.9932\n",
      "Epoch 54/100\n",
      "50000/50000 [==============================] - 6s 118us/step - loss: 0.0259 - acc: 0.9918\n",
      "Epoch 55/100\n",
      "50000/50000 [==============================] - 6s 119us/step - loss: 0.0457 - acc: 0.9861\n",
      "Epoch 56/100\n",
      "50000/50000 [==============================] - 6s 119us/step - loss: 0.0249 - acc: 0.9920 0s - loss: 0.0246 - acc: 0.\n",
      "Epoch 57/100\n",
      "50000/50000 [==============================] - 6s 120us/step - loss: 0.0223 - acc: 0.9931\n",
      "Epoch 58/100\n",
      "50000/50000 [==============================] - 6s 119us/step - loss: 0.0311 - acc: 0.9902\n",
      "Epoch 59/100\n",
      "50000/50000 [==============================] - 6s 119us/step - loss: 0.0313 - acc: 0.9910\n",
      "Epoch 60/100\n",
      "50000/50000 [==============================] - 6s 119us/step - loss: 0.0229 - acc: 0.9926\n",
      "Epoch 61/100\n"
     ]
    },
    {
     "name": "stdout",
     "output_type": "stream",
     "text": [
      "50000/50000 [==============================] - 6s 118us/step - loss: 0.0198 - acc: 0.9940\n",
      "Epoch 62/100\n",
      "50000/50000 [==============================] - 6s 117us/step - loss: 0.0227 - acc: 0.9930\n",
      "Epoch 63/100\n",
      "50000/50000 [==============================] - 6s 117us/step - loss: 0.0301 - acc: 0.9902\n",
      "Epoch 64/100\n",
      "50000/50000 [==============================] - 6s 117us/step - loss: 0.0268 - acc: 0.9913 \n",
      "Epoch 65/100\n",
      "50000/50000 [==============================] - 6s 117us/step - loss: 0.0253 - acc: 0.9919\n",
      "Epoch 66/100\n",
      "50000/50000 [==============================] - 6s 117us/step - loss: 0.0172 - acc: 0.9943\n",
      "Epoch 67/100\n",
      "50000/50000 [==============================] - 6s 118us/step - loss: 0.0265 - acc: 0.9917\n",
      "Epoch 68/100\n",
      "50000/50000 [==============================] - 6s 119us/step - loss: 0.0217 - acc: 0.9932\n",
      "Epoch 69/100\n",
      "50000/50000 [==============================] - 6s 117us/step - loss: 0.0316 - acc: 0.9903\n",
      "Epoch 70/100\n",
      "50000/50000 [==============================] - 6s 118us/step - loss: 0.0226 - acc: 0.9931\n",
      "Epoch 71/100\n",
      "50000/50000 [==============================] - 6s 118us/step - loss: 0.0152 - acc: 0.9954\n",
      "Epoch 72/100\n",
      "50000/50000 [==============================] - 6s 117us/step - loss: 0.0160 - acc: 0.9947\n",
      "Epoch 73/100\n",
      "50000/50000 [==============================] - 6s 117us/step - loss: 0.0249 - acc: 0.9920\n",
      "Epoch 74/100\n",
      "50000/50000 [==============================] - 6s 118us/step - loss: 0.0330 - acc: 0.9899 0s - loss: 0.0335 \n",
      "Epoch 75/100\n",
      "50000/50000 [==============================] - 6s 117us/step - loss: 0.0216 - acc: 0.9931 0s - loss: 0.0217 - acc: 0.\n",
      "Epoch 76/100\n",
      "50000/50000 [==============================] - 6s 118us/step - loss: 0.0178 - acc: 0.9941\n",
      "Epoch 77/100\n",
      "50000/50000 [==============================] - 6s 118us/step - loss: 0.0144 - acc: 0.9949\n",
      "Epoch 78/100\n",
      "50000/50000 [==============================] - 6s 118us/step - loss: 0.0147 - acc: 0.9955\n",
      "Epoch 79/100\n",
      "50000/50000 [==============================] - 6s 118us/step - loss: 0.0229 - acc: 0.9928\n",
      "Epoch 80/100\n",
      "50000/50000 [==============================] - 6s 117us/step - loss: 0.0178 - acc: 0.9944\n",
      "Epoch 81/100\n",
      "50000/50000 [==============================] - 6s 117us/step - loss: 0.0163 - acc: 0.9946\n",
      "Epoch 82/100\n",
      "50000/50000 [==============================] - 6s 117us/step - loss: 0.0169 - acc: 0.9953\n",
      "Epoch 83/100\n",
      "50000/50000 [==============================] - 6s 118us/step - loss: 0.0237 - acc: 0.9934 1s - loss:\n",
      "Epoch 84/100\n",
      "50000/50000 [==============================] - 6s 118us/step - loss: 0.0206 - acc: 0.9933 0s - loss: 0.02\n",
      "Epoch 85/100\n",
      "50000/50000 [==============================] - 6s 119us/step - loss: 0.0157 - acc: 0.9950\n",
      "Epoch 86/100\n",
      "50000/50000 [==============================] - 6s 117us/step - loss: 0.0126 - acc: 0.9961\n",
      "Epoch 87/100\n",
      "50000/50000 [==============================] - 6s 118us/step - loss: 0.0149 - acc: 0.9955\n",
      "Epoch 88/100\n",
      "50000/50000 [==============================] - 6s 118us/step - loss: 0.0242 - acc: 0.9926\n",
      "Epoch 89/100\n",
      "50000/50000 [==============================] - 6s 118us/step - loss: 0.0245 - acc: 0.9918\n",
      "Epoch 90/100\n",
      "50000/50000 [==============================] - 6s 118us/step - loss: 0.0164 - acc: 0.9945\n",
      "Epoch 91/100\n",
      "50000/50000 [==============================] - 6s 119us/step - loss: 0.0140 - acc: 0.9956\n",
      "Epoch 92/100\n",
      "50000/50000 [==============================] - 6s 123us/step - loss: 0.0169 - acc: 0.9948\n",
      "Epoch 93/100\n",
      "50000/50000 [==============================] - 6s 118us/step - loss: 0.0166 - acc: 0.9945\n",
      "Epoch 94/100\n",
      "50000/50000 [==============================] - 6s 121us/step - loss: 0.0227 - acc: 0.9932 1s - \n",
      "Epoch 95/100\n",
      "50000/50000 [==============================] - 6s 117us/step - loss: 0.0233 - acc: 0.9935\n",
      "Epoch 96/100\n",
      "50000/50000 [==============================] - 6s 116us/step - loss: 0.0136 - acc: 0.9958\n",
      "Epoch 97/100\n",
      "50000/50000 [==============================] - 6s 116us/step - loss: 0.0100 - acc: 0.9966\n",
      "Epoch 98/100\n",
      "50000/50000 [==============================] - 6s 117us/step - loss: 0.0129 - acc: 0.9960\n",
      "Epoch 99/100\n",
      "50000/50000 [==============================] - 6s 115us/step - loss: 0.0176 - acc: 0.9947\n",
      "Epoch 100/100\n",
      "50000/50000 [==============================] - 6s 115us/step - loss: 0.0202 - acc: 0.9943\n"
     ]
    },
    {
     "data": {
      "text/plain": [
       "<keras.callbacks.History at 0x1f2eccaee10>"
      ]
     },
     "execution_count": 4,
     "metadata": {},
     "output_type": "execute_result"
    }
   ],
   "source": [
    "\n",
    "classifier=Sequential()\n",
    "\n",
    "#卷積組合\n",
    "classifier.add(Convolution2D(filters=32, kernel_size=(3,3), input_shape=(32,32,3), activation='relu', padding='same'))\n",
    "#32,3,3,input_shape=(32,32,3),activation='relu'\n",
    "classifier.add(BatchNormalization())\n",
    "\n",
    "'''自己決定MaxPooling2D放在哪裡'''\n",
    "classifier.add(MaxPooling2D(pool_size=(2,2)))\n",
    "\n",
    "#卷積組合\n",
    "classifier.add(Convolution2D(filters=32, kernel_size=(3,3), padding='same'))\n",
    "classifier.add(BatchNormalization())\n",
    "\n",
    "#flatten\n",
    "classifier.add(Flatten())\n",
    "\n",
    "#FC\n",
    "classifier.add(Dense(units=100, activation='relu')) #output_dim=100,activation=relu\n",
    "\n",
    "#輸出\n",
    "classifier.add(Dense(units=10, activation='softmax'))\n",
    "\n",
    "#超過兩個就要選categorical_crossentrophy\n",
    "classifier.compile(optimizer = 'adam', loss = 'categorical_crossentropy', metrics = ['accuracy'])\n",
    "classifier.fit(x_train,y_train,batch_size=100,epochs=100)"
   ]
  },
  {
   "cell_type": "markdown",
   "metadata": {},
   "source": [
    "## 預測新圖片，輸入影像前處理要與訓練時相同\n",
    "#### ((X-mean)/(std+1e-7) ):這裡的mean跟std是訓練集的\n",
    "## 維度如下方示範"
   ]
  },
  {
   "cell_type": "code",
   "execution_count": 5,
   "metadata": {},
   "outputs": [
    {
     "data": {
      "text/plain": [
       "array([[3.4196633e-05, 2.4186542e-09, 3.5899319e-02, 9.6212995e-01,\n",
       "        1.9361140e-03, 4.5821542e-09, 5.6538497e-08, 1.2245353e-11,\n",
       "        7.9422428e-08, 2.4543795e-07]], dtype=float32)"
      ]
     },
     "execution_count": 5,
     "metadata": {},
     "output_type": "execute_result"
    }
   ],
   "source": [
    "input_example=(np.zeros(shape=(1,32,32,3))-mean_train)/(std_train+1e-7) \n",
    "classifier.predict(input_example)"
   ]
  }
 ],
 "metadata": {
  "kernelspec": {
   "display_name": "Python 3",
   "language": "python",
   "name": "python3"
  },
  "language_info": {
   "codemirror_mode": {
    "name": "ipython",
    "version": 3
   },
   "file_extension": ".py",
   "mimetype": "text/x-python",
   "name": "python",
   "nbconvert_exporter": "python",
   "pygments_lexer": "ipython3",
   "version": "3.7.3"
  }
 },
 "nbformat": 4,
 "nbformat_minor": 2
}
