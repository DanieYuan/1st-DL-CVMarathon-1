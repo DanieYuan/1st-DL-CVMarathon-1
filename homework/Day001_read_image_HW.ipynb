{
 "cells": [
  {
   "cell_type": "markdown",
   "metadata": {},
   "source": [
    "# 作業\n",
    "\n",
    "思考一下我們前面有提到圖片是矩陣，但維度可能會不一樣\n",
    "例如灰階圖只有兩個維度，RGB 彩圖則有 3 個維度\n",
    "\n",
    "假如今天我們把 RGB 3 個維度拆開來看會有甚麼不同的效果呢？"
   ]
  },
  {
   "cell_type": "code",
   "execution_count": 26,
   "metadata": {},
   "outputs": [],
   "source": [
    "import cv2\n",
    "\n",
    "img_path = 'data/lena.png'\n",
    "\n",
    "# 以彩色圖片的方式載入\n",
    "img = cv2.imread(img_path, cv2.IMREAD_COLOR)"
   ]
  },
  {
   "cell_type": "code",
   "execution_count": 27,
   "metadata": {},
   "outputs": [],
   "source": [
    "# 為了要不斷顯示圖片，所以使用一個迴圈\n",
    "while True:\n",
    "    # 顯示彩圖\n",
    "    # since three channels\n",
    "    for idx,val in enumerate('bgr'):\n",
    "        cv2.imshow('Channel {}'.format(val), img[:,:,idx])\n",
    "\n",
    "#     test\n",
    "#     b = img.copy()\n",
    "#     b[:, :, 1] = 0\n",
    "#     b[:, :, 2] = 0\n",
    "    \n",
    "#     g = img.copy()\n",
    "#     g[:, :, 0] = 0\n",
    "#     g[:, :, 2] = 0\n",
    "\n",
    "#     r = img.copy()\n",
    "#     r[:, :, 0] = 0\n",
    "#     r[:, :, 1] = 0\n",
    "\n",
    "    # RGB - Blue\n",
    "#     cv2.imshow('B-RGB', b)\n",
    "\n",
    "    # RGB - Green\n",
    "#     cv2.imshow('G-RGB', g)\n",
    "\n",
    "    # RGB - Red\n",
    "#     cv2.imshow('R-RGB', r )\n",
    "\n",
    "    # 直到按下 ESC 鍵才會自動關閉視窗結束程式\n",
    "    k = cv2.waitKey(0)\n",
    "    if k == 27:\n",
    "        cv2.destroyAllWindows()\n",
    "        break"
   ]
  },
  {
   "cell_type": "code",
   "execution_count": null,
   "metadata": {},
   "outputs": [],
   "source": []
  }
 ],
 "metadata": {
  "kernelspec": {
   "display_name": "Python 3",
   "language": "python",
   "name": "python3"
  },
  "language_info": {
   "codemirror_mode": {
    "name": "ipython",
    "version": 3
   },
   "file_extension": ".py",
   "mimetype": "text/x-python",
   "name": "python",
   "nbconvert_exporter": "python",
   "pygments_lexer": "ipython3",
   "version": "3.7.3"
  }
 },
 "nbformat": 4,
 "nbformat_minor": 2
}
